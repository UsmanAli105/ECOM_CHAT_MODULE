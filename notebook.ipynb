{
 "cells": [
  {
   "cell_type": "code",
   "execution_count": 1,
   "id": "62367485",
   "metadata": {},
   "outputs": [],
   "source": [
    "import sys\n",
    "sys.path.append('./client/user-service-client')\n",
    "\n",
    "from openapi_client.api.login_api import LoginApi\n",
    "from openapi_client.models.user_login_request import UserLoginRequest\n",
    "from openapi_client.models.user_login_request_bean import UserLoginRequestBean\n",
    "from openapi_client.configuration import Configuration\n",
    "from openapi_client.api_client import ApiClient\n",
    "\n",
    "configuration = Configuration(\n",
    "    host=\"http://localhost:8020/api\"  # Your server URL\n",
    ")\n",
    "\n",
    "\n",
    "with ApiClient(configuration) as api_client:\n",
    "    api_instance = LoginApi(api_client)\n",
    "\n",
    "    # Step 3: Create Login Request Body\n",
    "    login_request = UserLoginRequest(\n",
    "        user_login_request_bean=UserLoginRequestBean(\n",
    "            username=\"usman123\",\n",
    "            password=\"P@ssw0rd!\"\n",
    "        ),\n",
    "        channel=1,\n",
    "        device_id=\"abcd1234xyz\",\n",
    "        device_type=\"ANDROID\",\n",
    "        user_id=1001,\n",
    "        token=\"a7d1fc99-bcf5-41b2-bb15-545bf310e3b5\"  # A UUID string\n",
    "    )"
   ]
  },
  {
   "cell_type": "code",
   "execution_count": null,
   "id": "a4e04bf2",
   "metadata": {},
   "outputs": [
    {
     "name": "stdout",
     "output_type": "stream",
     "text": [
      "Login Successful:\n",
      "user_login_response_bean=UserLoginResponseBean(user_id=152, display_name='Usman Ali', token='45ea58f1-5963-4256-b1d2-585f387b4898', role='USER') status=Status(code=10000, message='Success')\n"
     ]
    }
   ],
   "source": [
    "try:\n",
    "    # Step 4: Call the API\n",
    "    response = api_instance.login(login_request)\n",
    "    print(\"Login Successful:\")\n",
    "    print(response)\n",
    "except Exception as e:\n",
    "    print(\"Login Failed:\")\n",
    "    print(e)"
   ]
  }
 ],
 "metadata": {
  "kernelspec": {
   "display_name": ".venv",
   "language": "python",
   "name": "python3"
  },
  "language_info": {
   "codemirror_mode": {
    "name": "ipython",
    "version": 3
   },
   "file_extension": ".py",
   "mimetype": "text/x-python",
   "name": "python",
   "nbconvert_exporter": "python",
   "pygments_lexer": "ipython3",
   "version": "3.10.5"
  }
 },
 "nbformat": 4,
 "nbformat_minor": 5
}
